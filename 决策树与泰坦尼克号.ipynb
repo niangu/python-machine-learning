{
 "cells": [
  {
   "cell_type": "code",
   "execution_count": 1,
   "metadata": {},
   "outputs": [
    {
     "name": "stdout",
     "output_type": "stream",
     "text": [
      "   row.names pclass  survived  \\\n",
      "0          1    1st         1   \n",
      "1          2    1st         0   \n",
      "2          3    1st         0   \n",
      "3          4    1st         0   \n",
      "4          5    1st         1   \n",
      "\n",
      "                                              name      age     embarked  \\\n",
      "0                     Allen, Miss Elisabeth Walton  29.0000  Southampton   \n",
      "1                      Allison, Miss Helen Loraine   2.0000  Southampton   \n",
      "2              Allison, Mr Hudson Joshua Creighton  30.0000  Southampton   \n",
      "3  Allison, Mrs Hudson J.C. (Bessie Waldo Daniels)  25.0000  Southampton   \n",
      "4                    Allison, Master Hudson Trevor   0.9167  Southampton   \n",
      "\n",
      "                         home.dest room      ticket   boat     sex  \n",
      "0                     St Louis, MO  B-5  24160 L221      2  female  \n",
      "1  Montreal, PQ / Chesterville, ON  C26         NaN    NaN  female  \n",
      "2  Montreal, PQ / Chesterville, ON  C26         NaN  (135)    male  \n",
      "3  Montreal, PQ / Chesterville, ON  C26         NaN    NaN  female  \n",
      "4  Montreal, PQ / Chesterville, ON  C22         NaN     11    male  \n"
     ]
    }
   ],
   "source": [
    "import pandas as pd\n",
    "titanic = pd.read_csv('http://biostat.mc.vanderbilt.edu/wiki/pub/Main/DataSets/titanic.txt')\n",
    "print(titanic.head())"
   ]
  },
  {
   "cell_type": "code",
   "execution_count": 2,
   "metadata": {},
   "outputs": [
    {
     "name": "stdout",
     "output_type": "stream",
     "text": [
      "<class 'pandas.core.frame.DataFrame'>\n",
      "RangeIndex: 1313 entries, 0 to 1312\n",
      "Data columns (total 11 columns):\n",
      "row.names    1313 non-null int64\n",
      "pclass       1313 non-null object\n",
      "survived     1313 non-null int64\n",
      "name         1313 non-null object\n",
      "age          633 non-null float64\n",
      "embarked     821 non-null object\n",
      "home.dest    754 non-null object\n",
      "room         77 non-null object\n",
      "ticket       69 non-null object\n",
      "boat         347 non-null object\n",
      "sex          1313 non-null object\n",
      "dtypes: float64(1), int64(2), object(8)\n",
      "memory usage: 112.9+ KB\n",
      "None\n"
     ]
    }
   ],
   "source": [
    "#查看数据的统计特性\n",
    "print(titanic.info())"
   ]
  },
  {
   "cell_type": "code",
   "execution_count": 3,
   "metadata": {},
   "outputs": [
    {
     "name": "stdout",
     "output_type": "stream",
     "text": [
      "<bound method DataFrame.info of      pclass      age     sex\n",
      "0       1st  29.0000  female\n",
      "1       1st   2.0000  female\n",
      "2       1st  30.0000    male\n",
      "3       1st  25.0000  female\n",
      "4       1st   0.9167    male\n",
      "5       1st  47.0000    male\n",
      "6       1st  63.0000  female\n",
      "7       1st  39.0000    male\n",
      "8       1st  58.0000  female\n",
      "9       1st  71.0000    male\n",
      "10      1st  47.0000    male\n",
      "11      1st  19.0000  female\n",
      "12      1st      NaN  female\n",
      "13      1st      NaN    male\n",
      "14      1st      NaN    male\n",
      "15      1st  50.0000  female\n",
      "16      1st  24.0000    male\n",
      "17      1st  36.0000    male\n",
      "18      1st  37.0000    male\n",
      "19      1st  47.0000  female\n",
      "20      1st  26.0000    male\n",
      "21      1st  25.0000    male\n",
      "22      1st  25.0000    male\n",
      "23      1st  19.0000  female\n",
      "24      1st  28.0000    male\n",
      "25      1st  45.0000    male\n",
      "26      1st  39.0000    male\n",
      "27      1st  30.0000  female\n",
      "28      1st  58.0000  female\n",
      "29      1st      NaN    male\n",
      "...     ...      ...     ...\n",
      "1283    3rd      NaN  female\n",
      "1284    3rd      NaN    male\n",
      "1285    3rd      NaN    male\n",
      "1286    3rd      NaN    male\n",
      "1287    3rd      NaN    male\n",
      "1288    3rd      NaN    male\n",
      "1289    3rd      NaN    male\n",
      "1290    3rd      NaN    male\n",
      "1291    3rd      NaN    male\n",
      "1292    3rd      NaN    male\n",
      "1293    3rd      NaN  female\n",
      "1294    3rd      NaN    male\n",
      "1295    3rd      NaN    male\n",
      "1296    3rd      NaN    male\n",
      "1297    3rd      NaN    male\n",
      "1298    3rd      NaN    male\n",
      "1299    3rd      NaN    male\n",
      "1300    3rd      NaN    male\n",
      "1301    3rd      NaN    male\n",
      "1302    3rd      NaN    male\n",
      "1303    3rd      NaN    male\n",
      "1304    3rd      NaN  female\n",
      "1305    3rd      NaN    male\n",
      "1306    3rd      NaN  female\n",
      "1307    3rd      NaN  female\n",
      "1308    3rd      NaN    male\n",
      "1309    3rd      NaN    male\n",
      "1310    3rd      NaN    male\n",
      "1311    3rd      NaN  female\n",
      "1312    3rd      NaN    male\n",
      "\n",
      "[1313 rows x 3 columns]>\n"
     ]
    }
   ],
   "source": [
    "X = titanic[['pclass','age','sex']]\n",
    "y = titanic['survived']\n",
    "\n",
    "print(X.info)"
   ]
  },
  {
   "cell_type": "code",
   "execution_count": 4,
   "metadata": {},
   "outputs": [
    {
     "name": "stdout",
     "output_type": "stream",
     "text": [
      "<bound method DataFrame.info of      pclass        age     sex\n",
      "0       1st  29.000000  female\n",
      "1       1st   2.000000  female\n",
      "2       1st  30.000000    male\n",
      "3       1st  25.000000  female\n",
      "4       1st   0.916700    male\n",
      "5       1st  47.000000    male\n",
      "6       1st  63.000000  female\n",
      "7       1st  39.000000    male\n",
      "8       1st  58.000000  female\n",
      "9       1st  71.000000    male\n",
      "10      1st  47.000000    male\n",
      "11      1st  19.000000  female\n",
      "12      1st  31.194181  female\n",
      "13      1st  31.194181    male\n",
      "14      1st  31.194181    male\n",
      "15      1st  50.000000  female\n",
      "16      1st  24.000000    male\n",
      "17      1st  36.000000    male\n",
      "18      1st  37.000000    male\n",
      "19      1st  47.000000  female\n",
      "20      1st  26.000000    male\n",
      "21      1st  25.000000    male\n",
      "22      1st  25.000000    male\n",
      "23      1st  19.000000  female\n",
      "24      1st  28.000000    male\n",
      "25      1st  45.000000    male\n",
      "26      1st  39.000000    male\n",
      "27      1st  30.000000  female\n",
      "28      1st  58.000000  female\n",
      "29      1st  31.194181    male\n",
      "...     ...        ...     ...\n",
      "1283    3rd  31.194181  female\n",
      "1284    3rd  31.194181    male\n",
      "1285    3rd  31.194181    male\n",
      "1286    3rd  31.194181    male\n",
      "1287    3rd  31.194181    male\n",
      "1288    3rd  31.194181    male\n",
      "1289    3rd  31.194181    male\n",
      "1290    3rd  31.194181    male\n",
      "1291    3rd  31.194181    male\n",
      "1292    3rd  31.194181    male\n",
      "1293    3rd  31.194181  female\n",
      "1294    3rd  31.194181    male\n",
      "1295    3rd  31.194181    male\n",
      "1296    3rd  31.194181    male\n",
      "1297    3rd  31.194181    male\n",
      "1298    3rd  31.194181    male\n",
      "1299    3rd  31.194181    male\n",
      "1300    3rd  31.194181    male\n",
      "1301    3rd  31.194181    male\n",
      "1302    3rd  31.194181    male\n",
      "1303    3rd  31.194181    male\n",
      "1304    3rd  31.194181  female\n",
      "1305    3rd  31.194181    male\n",
      "1306    3rd  31.194181  female\n",
      "1307    3rd  31.194181  female\n",
      "1308    3rd  31.194181    male\n",
      "1309    3rd  31.194181    male\n",
      "1310    3rd  31.194181    male\n",
      "1311    3rd  31.194181  female\n",
      "1312    3rd  31.194181    male\n",
      "\n",
      "[1313 rows x 3 columns]>\n"
     ]
    },
    {
     "name": "stderr",
     "output_type": "stream",
     "text": [
      "/usr/local/bin/anaconda3/lib/python3.7/site-packages/pandas/core/generic.py:5434: SettingWithCopyWarning: \n",
      "A value is trying to be set on a copy of a slice from a DataFrame\n",
      "\n",
      "See the caveats in the documentation: http://pandas.pydata.org/pandas-docs/stable/indexing.html#indexing-view-versus-copy\n",
      "  self._update_inplace(new_data)\n"
     ]
    }
   ],
   "source": [
    "X['age'].fillna(X['age'].mean(), inplace=True)\n",
    "print(X.info)"
   ]
  },
  {
   "cell_type": "code",
   "execution_count": 6,
   "metadata": {},
   "outputs": [
    {
     "name": "stdout",
     "output_type": "stream",
     "text": [
      "['age', 'pclass=1st', 'pclass=2nd', 'pclass=3rd', 'sex=female', 'sex=male']\n"
     ]
    }
   ],
   "source": [
    "from sklearn.model_selection import train_test_split\n",
    "X_train, X_test, y_train, y_test = train_test_split(X, y, test_size=0.25, random_state=33)\n",
    "\n",
    "from sklearn.feature_extraction import DictVectorizer\n",
    "vec = DictVectorizer(sparse=False)\n",
    "\n",
    "X_train = vec.fit_transform(X_train.to_dict(orient='record'))\n",
    "print(vec.feature_names_)"
   ]
  },
  {
   "cell_type": "code",
   "execution_count": 7,
   "metadata": {},
   "outputs": [],
   "source": [
    "X_test = vec.transform(X_test.to_dict(orient='record'))\n",
    "\n",
    "from sklearn.tree import DecisionTreeClassifier\n",
    "dtc = DecisionTreeClassifier()\n",
    "dtc.fit(X_train, y_train)\n",
    "y_predict = dtc.predict(X_test)"
   ]
  },
  {
   "cell_type": "code",
   "execution_count": 8,
   "metadata": {},
   "outputs": [
    {
     "name": "stdout",
     "output_type": "stream",
     "text": [
      "0.7811550151975684\n",
      "              precision    recall  f1-score   support\n",
      "\n",
      "        died       0.91      0.78      0.84       236\n",
      "    survived       0.58      0.80      0.67        93\n",
      "\n",
      "   micro avg       0.78      0.78      0.78       329\n",
      "   macro avg       0.74      0.79      0.75       329\n",
      "weighted avg       0.81      0.78      0.79       329\n",
      "\n"
     ]
    }
   ],
   "source": [
    "from sklearn.metrics import classification_report\n",
    "print(dtc.score(X_test, y_test))\n",
    "print(classification_report(y_predict, y_test, target_names=['died', 'survived']))"
   ]
  },
  {
   "cell_type": "code",
   "execution_count": null,
   "metadata": {},
   "outputs": [],
   "source": []
  }
 ],
 "metadata": {
  "kernelspec": {
   "display_name": "Python 3",
   "language": "python",
   "name": "python3"
  },
  "language_info": {
   "codemirror_mode": {
    "name": "ipython",
    "version": 3
   },
   "file_extension": ".py",
   "mimetype": "text/x-python",
   "name": "python",
   "nbconvert_exporter": "python",
   "pygments_lexer": "ipython3",
   "version": "3.7.0"
  }
 },
 "nbformat": 4,
 "nbformat_minor": 2
}
